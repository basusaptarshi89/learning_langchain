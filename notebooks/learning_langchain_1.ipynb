{
 "cells": [
  {
   "cell_type": "code",
   "execution_count": 1,
   "id": "9181e642-9698-486e-8184-663ba3d78fa5",
   "metadata": {},
   "outputs": [],
   "source": [
    "# read Google Palm API key and set environment variable\n",
    "import os\n",
    "with open(\"../keys/application_llm_key.txt\") as f:\n",
    "    os.environ[\"palm_api_key\"] = f.read()\n"
   ]
  },
  {
   "cell_type": "code",
   "execution_count": 4,
   "id": "e63b42e0-9429-4f62-b93d-3c6ad94e0e31",
   "metadata": {},
   "outputs": [
    {
     "name": "stdout",
     "output_type": "stream",
     "text": [
      "Model(name='models/chat-bison-001',\n",
      "      base_model_id='',\n",
      "      version='001',\n",
      "      display_name='Chat Bison',\n",
      "      description='Chat-optimized generative language model.',\n",
      "      input_token_limit=4096,\n",
      "      output_token_limit=1024,\n",
      "      supported_generation_methods=['generateMessage', 'countMessageTokens'],\n",
      "      temperature=0.25,\n",
      "      top_p=0.95,\n",
      "      top_k=40) <class 'google.generativeai.types.model_types.Model'>\n",
      "Model(name='models/text-bison-001',\n",
      "      base_model_id='',\n",
      "      version='001',\n",
      "      display_name='Text Bison',\n",
      "      description='Model targeted for text generation.',\n",
      "      input_token_limit=8196,\n",
      "      output_token_limit=1024,\n",
      "      supported_generation_methods=['generateText', 'countTextTokens', 'createTunedTextModel'],\n",
      "      temperature=0.7,\n",
      "      top_p=0.95,\n",
      "      top_k=40) <class 'google.generativeai.types.model_types.Model'>\n",
      "Model(name='models/text-bison-recitation-off',\n",
      "      base_model_id='',\n",
      "      version='001',\n",
      "      display_name='Text Bison Recitation Off',\n",
      "      description='Model targeted for text generation with recitation turned off.',\n",
      "      input_token_limit=8196,\n",
      "      output_token_limit=1024,\n",
      "      supported_generation_methods=['generateText', 'countTextTokens', 'createTunedTextModel'],\n",
      "      temperature=0.7,\n",
      "      top_p=0.95,\n",
      "      top_k=40) <class 'google.generativeai.types.model_types.Model'>\n",
      "Model(name='models/text-bison-safety-off',\n",
      "      base_model_id='',\n",
      "      version='001',\n",
      "      display_name='Text Bison Safety Off',\n",
      "      description='Model targeted for text generation with safety turned off.',\n",
      "      input_token_limit=8196,\n",
      "      output_token_limit=1024,\n",
      "      supported_generation_methods=['generateText', 'countTextTokens', 'createTunedTextModel'],\n",
      "      temperature=0.7,\n",
      "      top_p=0.95,\n",
      "      top_k=40) <class 'google.generativeai.types.model_types.Model'>\n",
      "Model(name='models/text-bison-safety-recitation-off',\n",
      "      base_model_id='',\n",
      "      version='001',\n",
      "      display_name='Text Bison Safety and Recitation Off',\n",
      "      description='Model targeted for text generation with safety and recitation turned off.',\n",
      "      input_token_limit=8196,\n",
      "      output_token_limit=1024,\n",
      "      supported_generation_methods=['generateText', 'countTextTokens', 'createTunedTextModel'],\n",
      "      temperature=0.7,\n",
      "      top_p=0.95,\n",
      "      top_k=40) <class 'google.generativeai.types.model_types.Model'>\n",
      "Model(name='models/embedding-gecko-001',\n",
      "      base_model_id='',\n",
      "      version='001',\n",
      "      display_name='Embedding Gecko',\n",
      "      description='Obtain a distributed representation of a text.',\n",
      "      input_token_limit=1024,\n",
      "      output_token_limit=1,\n",
      "      supported_generation_methods=['embedText'],\n",
      "      temperature=None,\n",
      "      top_p=None,\n",
      "      top_k=None) <class 'google.generativeai.types.model_types.Model'>\n",
      "Model(name='models/embedding-gecko-002',\n",
      "      base_model_id='',\n",
      "      version='002',\n",
      "      display_name='Embedding Gecko 002',\n",
      "      description='Obtain a distributed representation of a text.',\n",
      "      input_token_limit=2048,\n",
      "      output_token_limit=1,\n",
      "      supported_generation_methods=['embedText'],\n",
      "      temperature=None,\n",
      "      top_p=None,\n",
      "      top_k=None) <class 'google.generativeai.types.model_types.Model'>\n"
     ]
    }
   ],
   "source": [
    "import google.generativeai as palm\n",
    "\n",
    "palm.configure(api_key=os.getenv(\"palm_api_key\"))\n",
    "\n",
    "for model in palm.list_models():\n",
    "    print(model)"
   ]
  },
  {
   "cell_type": "code",
   "execution_count": 13,
   "id": "41437862-4e60-43d9-83b9-0fda6b48d9b3",
   "metadata": {},
   "outputs": [
    {
     "data": {
      "text/plain": [
       "'**Sock it to Me!**'"
      ]
     },
     "execution_count": 13,
     "metadata": {},
     "output_type": "execute_result"
    }
   ],
   "source": [
    "from langchain.llms import GooglePalm\n",
    "\n",
    "llm = GooglePalm(google_api_key=os.getenv(\"palm_api_key\"))\n",
    "\n",
    "text = \"What would be a good company name for a company that makes colorful socks?\"\n",
    "\n",
    "llm.predict(text)\n",
    "\n",
    "\n",
    "\n"
   ]
  },
  {
   "cell_type": "code",
   "execution_count": null,
   "id": "f11a90bf-b2ed-459d-84ec-f2bdf59c231e",
   "metadata": {},
   "outputs": [],
   "source": [
    "from langchain.chat_models import ChatGooglePalm\n",
    "\n",
    "chat_model = ChatGooglePalm(google_api_key=os.getenv(\"palm_api_key\"))\n",
    "\n",
    "text = \"What would be a good company name for a company that makes colorful socks?\"\n",
    "\n",
    "chat_model.predict(text)"
   ]
  },
  {
   "cell_type": "code",
   "execution_count": null,
   "id": "dda00b68-23c2-4662-9660-3b0385d9506e",
   "metadata": {},
   "outputs": [],
   "source": [
    "from langchain.schema import HumanMessage\n",
    "\n",
    "text = \"What would be a good company name for a company that makes colorful socks?\"\n",
    "messages = [HumanMessage(content=text)]\n",
    "\n",
    "llm.predict_messages(messages)\n",
    "# >> Feetful of Fun\n",
    "\n",
    "# chat_model.predict_messages(messages)\n",
    "# >> Socks O'Color"
   ]
  },
  {
   "cell_type": "code",
   "execution_count": null,
   "id": "da8512b9-8cc6-4b94-bcac-b46b12871f56",
   "metadata": {},
   "outputs": [],
   "source": []
  }
 ],
 "metadata": {
  "kernelspec": {
   "display_name": "Python 3 (ipykernel)",
   "language": "python",
   "name": "python3"
  },
  "language_info": {
   "codemirror_mode": {
    "name": "ipython",
    "version": 3
   },
   "file_extension": ".py",
   "mimetype": "text/x-python",
   "name": "python",
   "nbconvert_exporter": "python",
   "pygments_lexer": "ipython3",
   "version": "3.11.3"
  }
 },
 "nbformat": 4,
 "nbformat_minor": 5
}
